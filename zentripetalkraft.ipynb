{
 "cells": [
  {
   "cell_type": "markdown",
   "metadata": {},
   "source": [
    "# Zentripetalkraft"
   ]
  },
  {
   "cell_type": "code",
   "execution_count": 1,
   "metadata": {},
   "outputs": [],
   "source": [
    "from matplotlib import pyplot as plt\n",
    "from matplotlib import style\n",
    "from scipy import stats\n",
    "import numpy as np\n",
    "import pandas as pd\n",
    "import glob\n",
    "\n",
    "class File:\n",
    "\n",
    "    def __init__(self):\n",
    "        pass\n",
    "\n",
    "    def setDateiname(self):\n",
    "        print(\"Gefundene Files :\" + \"\\n\")\n",
    "        for name in glob.glob('*.csv'):\n",
    "            print(name)\n",
    "        datei = input(\"\\n\" + \"Dateinamen ohne Endung eingeben: \")\n",
    "        self.datei = datei + '.csv'\n",
    "        self.df_mess=pd.read_csv(self.datei, skiprows=3)\n",
    "        self.df_conds=pd.read_csv(self.datei, skiprows=0, nrows=1)\n",
    "        \n",
    "    def getMesswerte(self):\n",
    "        colnames = []\n",
    "        for idx,v in enumerate(self.df_mess.columns.values):\n",
    "            colnames.append(v.split()[0])\n",
    "        return pd.read_csv(self.datei, names=colnames, skiprows=4)\n",
    "    \n",
    "    def getMesswerteMitSpaltennamen(self):\n",
    "        dimension = self.df_mess.ndim\n",
    "        colnames = []\n",
    "        for idx in range(dimension):\n",
    "            colnames.append(input('Spaltenname angeben: '))\n",
    "        return pd.read_csv(self.datei, names=colnames, skiprows=1)\n",
    "            \n",
    "    \n",
    "    def getBedingungen(self):\n",
    "        colnames = []\n",
    "        for idx,v in enumerate(self.df_conds.columns.values):\n",
    "            colnames.append(v.split()[0])\n",
    "        return pd.read_csv(self.datei, names=colnames, skiprows=1, nrows=1)\n",
    "    \n",
    "    def getBedingungenMitSpaltennamen(self):\n",
    "        dimension = self.df_conds.ndim\n",
    "        colnames = []\n",
    "        for idx in range(dimension):\n",
    "            colnames.append(input('Spaltenname angeben: '))\n",
    "        return pd.read_csv(self.datei, names=colnames, skiprows=1, nrows=1)        \n",
    "    \n",
    "    def getDateiname(self):\n",
    "        return self.datei\n",
    "    \n",
    "    def getMesswerteFrame(self):\n",
    "        return self.df_mess\n",
    "    \n",
    "    def getBedingungenFrame(self):\n",
    "        return self.df_conds\n",
    "    \n",
    "    \n",
    "class Linregress:\n",
    "    def __init__(self,x,y):\n",
    "        self.x = x\n",
    "        self.y = y\n",
    "        self.slope, self.intercept, self.r_value, self.p_value, self.std_err = stats.linregress(x, y)\n",
    "        self.yreg = self.intercept + self.slope*x\n",
    "        \n",
    "    def plotLine(self,ax):\n",
    "        ax.plot(self.x, self.yreg, 'r', label='Regressionsgerade')\n",
    "        ax.legend()\n",
    "        \n",
    "    def getSlope(self):\n",
    "        return self.slope\n",
    "    \n",
    "    def getIntercept(self):\n",
    "        return self.intercept\n",
    "    \n",
    "    def getR(self):\n",
    "        return self.r_value\n",
    "    \n",
    "    def getP(self):\n",
    "        return self.p_value\n",
    "    \n",
    "    def getErr(self):\n",
    "        return self.std_err        \n",
    "    \n",
    "    def getYreg(self):\n",
    "        return self.yreg\n",
    "    \n",
    "class XYDiag:\n",
    "    def __init__(self,tit,lab,xlab,ylab,x,y):\n",
    "        self.tit = tit\n",
    "        self.xlab = xlab\n",
    "        self.ylab = ylab\n",
    "        self.lab = lab\n",
    "        self.x = x\n",
    "        self.y = y\n",
    "        fig = plt.figure(figsize=(10,7))\n",
    "        self.ax = fig.add_subplot(1, 1, 1)\n",
    "        self.ax.plot(self.x, self.y, '+', label=lab)\n",
    "        self.ax.set_title(self.tit,y=1.09, fontsize = 15)\n",
    "        self.ax.set_ylabel(self.ylab)\n",
    "        self.ax.set_xlabel(self.xlab)\n",
    "        self.ax.grid(which='major',axis='both')\n",
    "        self.ax.legend()\n",
    "        \n",
    "    def getDiagramm(self):\n",
    "        return self.ax"
   ]
  },
  {
   "cell_type": "markdown",
   "metadata": {},
   "source": [
    "## Zentripetalkraft und Winkelgeschwindigkeit"
   ]
  },
  {
   "cell_type": "code",
   "execution_count": 6,
   "metadata": {},
   "outputs": [
    {
     "name": "stdout",
     "output_type": "stream",
     "text": [
      "Gefundene Files :\n",
      "\n",
      "zentripetalkraft_2020_omega.csv\n",
      "zentripetalkraft_2018_bahnradius.csv\n",
      "zentripetalkraft_2018_omega.csv\n",
      "zentripetalkraft_2018_masse.csv\n",
      "\n",
      "Dateinamen ohne Endung eingeben: zentripetalkraft_2018_omega\n",
      "Rundenzahl [10]\n",
      "Anzahl der gemessenen Runden: 10\n",
      "R =  0.98\n"
     ]
    },
    {
     "data": {
      "image/png": "[encoded data removed]",
      "text/plain": [
       "<Figure size 720x504 with 1 Axes>"
      ]
     },
     "metadata": {
      "needs_background": "light"
     },
     "output_type": "display_data"
    }
   ],
   "source": [
    "#Einlesen der Messwerte\n",
    "file = File()\n",
    "file.setDateiname()\n",
    "df_mess = file.getMesswerte()\n",
    "\n",
    "#Winkelgeschwindigkeit\n",
    "zeit = df_mess[\"t\"]\n",
    "print(file.getBedingungen().columns[0], file.getBedingungen().get_values()[0])\n",
    "runden = int(input(\"Anzahl der gemessenen Runden: \"))\n",
    "zeit_pro_runde = zeit/runden\n",
    "omega = 2*np.pi/zeit_pro_runde\n",
    "omega2  = omega**2\n",
    "\n",
    "#Diagramm\n",
    "zentripetalkraft = df_mess[\"F\"]\n",
    "diag = XYDiag(\"Abh. von Winkelgeschwindigkeit\",\"Messwert\",\"omega^2\",\"Zentripetalkraft\",omega2,zentripetalkraft)\n",
    "\n",
    "#Regression\n",
    "lr = Linregress(omega2,zentripetalkraft)\n",
    "lr.plotLine(diag.getDiagramm())\n",
    "print(\"R = \",'{:.2f}'.format(lr.getR()))"
   ]
  },
  {
   "cell_type": "markdown",
   "metadata": {},
   "source": [
    "## Zentripetalkraft und Masse"
   ]
  },
  {
   "cell_type": "code",
   "execution_count": null,
   "metadata": {},
   "outputs": [],
   "source": [
    "#Einlesen der Messwerte\n",
    "file = File()\n",
    "file.setDateiname()\n",
    "df_mess = file.getMesswerte()\n",
    "\n",
    "#Masse\n",
    "masse = df_mess[\"m\"]\n",
    "\n",
    "#Diagramm\n",
    "zentripetalkraft = df_mess[\"F\"]\n",
    "diag = XYDiag(\"Abh. von Masse\",\"Messwert\",\"Masse [kg]\",\"Zentripetalkraft [N]\",masse,zentripetalkraft)\n",
    "\n",
    "#Regression\n",
    "lr = Linregress(masse,zentripetalkraft)\n",
    "lr.plotLine(diag.getDiagramm())\n",
    "print(\"R = \",'{:.2f}'.format(lr.getR()))"
   ]
  },
  {
   "cell_type": "markdown",
   "metadata": {},
   "source": [
    "## Zentripetalkraft und Bahnradius"
   ]
  },
  {
   "cell_type": "code",
   "execution_count": null,
   "metadata": {},
   "outputs": [],
   "source": [
    "#Einlesen der Messwerte\n",
    "file = File()\n",
    "file.setDateiname()\n",
    "df_mess = file.getMesswerte()\n",
    "\n",
    "#Bahnradius\n",
    "radius = df_mess[\"r\"]\n",
    "\n",
    "#Diagramm\n",
    "zentripetalkraft = df_mess[\"F\"]\n",
    "diag = XYDiag(\"Abh. von Bahnradius\",\"Messwert\",\"Bahnradius [m]\",\"Zentripetalkraft [N]\",radius,zentripetalkraft)\n",
    "\n",
    "#Regression\n",
    "lr = Linregress(radius,zentripetalkraft)\n",
    "lr.plotLine(diag.getDiagramm())\n",
    "print(\"R = \",'{:.2f}'.format(lr.getR()))"
   ]
  },
  {
   "cell_type": "code",
   "execution_count": null,
   "metadata": {},
   "outputs": [],
   "source": []
  }
 ],
 "metadata": {
  "kernelspec": {
   "display_name": "Python 3",
   "language": "python",
   "name": "python3"
  },
  "language_info": {
   "codemirror_mode": {
    "name": "ipython",
    "version": 3
   },
   "file_extension": ".py",
   "mimetype": "text/x-python",
   "name": "python",
   "nbconvert_exporter": "python",
   "pygments_lexer": "ipython3",
   "version": "3.5.6"
  }
 },
 "nbformat": 4,
 "nbformat_minor": 2
}
